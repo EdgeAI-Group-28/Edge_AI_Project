{
 "cells": [
  {
   "cell_type": "code",
   "execution_count": null,
   "id": "e103f0a8-8480-4a89-bd21-fe37e263ee83",
   "metadata": {},
   "outputs": [],
   "source": [
    "from datasets import "
   ]
  },
  {
   "cell_type": "code",
   "execution_count": 5,
   "id": "a3a2104f-3b30-4845-8605-97622eb8d2a2",
   "metadata": {},
   "outputs": [
    {
     "name": "stderr",
     "output_type": "stream",
     "text": [
      "'nvidia-smi' is not recognized as an internal or external command,\n",
      "operable program or batch file.\n"
     ]
    }
   ],
   "source": [
    "!nvidia-smi"
   ]
  },
  {
   "cell_type": "code",
   "execution_count": 9,
   "id": "bd5688f9-cdf7-4c9f-af5a-912a6a1b7c27",
   "metadata": {},
   "outputs": [
    {
     "name": "stdout",
     "output_type": "stream",
     "text": [
      "C:\\Users\\ashwinir\\OneDrive - Jafferjee Brothers\\Desktop\\exp2\\exp4\n"
     ]
    }
   ],
   "source": [
    "import os\n",
    "print(os.getcwd())"
   ]
  },
  {
   "cell_type": "code",
   "execution_count": null,
   "id": "84edb7ce-5d85-40f6-ad14-226f931db9a3",
   "metadata": {},
   "outputs": [],
   "source": [
    "!unzip -q /content/label.zip -d /content/data/validation/"
   ]
  },
  {
   "cell_type": "code",
   "execution_count": 6,
   "id": "5d0da3c8-6d57-44bf-bfca-e6ea93269518",
   "metadata": {},
   "outputs": [
    {
     "name": "stdout",
     "output_type": "stream",
     "text": [
      "Created folder at C:\\Users\\ashwinir\\OneDrive - Jafferjee Brothers\\Desktop\\exp2\\exp4\\data/train/images.\n",
      "Created folder at C:\\Users\\ashwinir\\OneDrive - Jafferjee Brothers\\Desktop\\exp2\\exp4\\data/train/labels.\n",
      "Created folder at C:\\Users\\ashwinir\\OneDrive - Jafferjee Brothers\\Desktop\\exp2\\exp4\\data/validation/images.\n",
      "Created folder at C:\\Users\\ashwinir\\OneDrive - Jafferjee Brothers\\Desktop\\exp2\\exp4\\data/validation/labels.\n",
      "Number of image files: 119\n",
      "Number of annotation files: 118\n",
      "Images moving to train: 107\n",
      "Images moving to validation: 12\n"
     ]
    }
   ],
   "source": [
    "#!wget -O /content/train_val_split.py https://raw.githubusercontent.com/EdjeElectronics/Train-and-Deploy-YOLO-Models/refs/heads/main/utils/train_val_split.py\n",
    "!python train_val_split.py --datapath=\".\" --train_pct=0.9"
   ]
  },
  {
   "cell_type": "code",
   "execution_count": 7,
   "id": "94b03cf6-7d4d-4149-8ac8-15b9171221de",
   "metadata": {},
   "outputs": [],
   "source": [
    "!pip install ultralytics -q"
   ]
  },
  {
   "cell_type": "code",
   "execution_count": null,
   "id": "dfad06a1-8e8a-455b-bd86-ef2f8a88efc1",
   "metadata": {},
   "outputs": [],
   "source": [
    "#!DATA=/content/data/data.yaml && \n",
    "!yolo detect train data=data.yaml model=yolo11s.pt epochs=80 imgsz=640 batch=16 name=yolo11s_run "
   ]
  },
  {
   "cell_type": "code",
   "execution_count": 16,
   "id": "eeaf2f61-f5a5-4173-a040-20e82333aae7",
   "metadata": {},
   "outputs": [
    {
     "name": "stdout",
     "output_type": "stream",
     "text": [
      "Ultralytics 8.3.91 ðŸš€ Python-3.12.1 torch-2.6.0+cpu CPU (AMD Ryzen 5 PRO 4650U with Radeon Graphics)\n",
      "YOLO11s summary (fused): 100 layers, 9,414,348 parameters, 0 gradients, 21.3 GFLOPs\n",
      "\n",
      "image 1/12 C:\\Users\\ashwinir\\OneDrive - Jafferjee Brothers\\Desktop\\exp2\\exp4\\data\\validation\\images\\WhatsApp Image 2025-04-02 at 20.46.21.jpeg: 480x640 1 L, 1 Xs, 246.2ms\n",
      "image 2/12 C:\\Users\\ashwinir\\OneDrive - Jafferjee Brothers\\Desktop\\exp2\\exp4\\data\\validation\\images\\WhatsApp Image 2025-04-02 at 20.46.29.jpeg: 480x640 1 Xs, 172.7ms\n",
      "image 3/12 C:\\Users\\ashwinir\\OneDrive - Jafferjee Brothers\\Desktop\\exp2\\exp4\\data\\validation\\images\\WhatsApp Image 2025-04-02 at 20.46.36.jpeg: 480x640 1 M, 1 Xs, 173.0ms\n",
      "image 4/12 C:\\Users\\ashwinir\\OneDrive - Jafferjee Brothers\\Desktop\\exp2\\exp4\\data\\validation\\images\\WhatsApp Image 2025-04-02 at 20.46.42 (2).jpeg: 480x640 1 M, 1 Xs, 173.3ms\n",
      "image 5/12 C:\\Users\\ashwinir\\OneDrive - Jafferjee Brothers\\Desktop\\exp2\\exp4\\data\\validation\\images\\WhatsApp Image 2025-04-02 at 20.46.44 (1).jpeg: 480x640 1 M, 161.5ms\n",
      "image 6/12 C:\\Users\\ashwinir\\OneDrive - Jafferjee Brothers\\Desktop\\exp2\\exp4\\data\\validation\\images\\WhatsApp Image 2025-04-02 at 20.46.47.jpeg: 480x640 1 M, 1 Xs, 178.8ms\n",
      "image 7/12 C:\\Users\\ashwinir\\OneDrive - Jafferjee Brothers\\Desktop\\exp2\\exp4\\data\\validation\\images\\WhatsApp Image 2025-04-02 at 20.46.49.jpeg: 480x640 1 M, 1 Xs, 177.7ms\n",
      "image 8/12 C:\\Users\\ashwinir\\OneDrive - Jafferjee Brothers\\Desktop\\exp2\\exp4\\data\\validation\\images\\WhatsApp Image 2025-04-03 at 11.46.24 (1).jpeg: 480x640 2 Xss, 164.4ms\n",
      "image 9/12 C:\\Users\\ashwinir\\OneDrive - Jafferjee Brothers\\Desktop\\exp2\\exp4\\data\\validation\\images\\WhatsApp Image 2025-04-03 at 11.46.24.jpeg: 480x640 1 L, 1 M, 1 S, 1 Xs, 179.5ms\n",
      "image 10/12 C:\\Users\\ashwinir\\OneDrive - Jafferjee Brothers\\Desktop\\exp2\\exp4\\data\\validation\\images\\WhatsApp Image 2025-04-03 at 11.46.33 (1).jpeg: 480x640 1 M, 2 Xss, 289.8ms\n",
      "image 11/12 C:\\Users\\ashwinir\\OneDrive - Jafferjee Brothers\\Desktop\\exp2\\exp4\\data\\validation\\images\\WhatsApp Image 2025-04-03 at 11.46.41 (1).jpeg: 480x640 1 L, 1 M, 1 S, 2 Xss, 177.4ms\n",
      "image 12/12 C:\\Users\\ashwinir\\OneDrive - Jafferjee Brothers\\Desktop\\exp2\\exp4\\data\\validation\\images\\WhatsApp Image 2025-04-03 at 11.46.49.jpeg: 480x640 2 Ms, 1 S, 3 Xss, 164.8ms\n",
      "Speed: 4.1ms preprocess, 188.3ms inference, 1.4ms postprocess per image at shape (1, 3, 480, 640)\n",
      "Results saved to \u001b[1mruns\\detect\\predict\u001b[0m\n",
      "ðŸ’¡ Learn more at https://docs.ultralytics.com/modes/predict\n"
     ]
    }
   ],
   "source": [
    "!yolo detect predict model=runs/detect/yolo11s_run/weights/best.pt source=data/validation/images save=True"
   ]
  }
 ],
 "metadata": {
  "kernelspec": {
   "display_name": "Python 3 (ipykernel)",
   "language": "python",
   "name": "python3"
  },
  "language_info": {
   "codemirror_mode": {
    "name": "ipython",
    "version": 3
   },
   "file_extension": ".py",
   "mimetype": "text/x-python",
   "name": "python",
   "nbconvert_exporter": "python",
   "pygments_lexer": "ipython3",
   "version": "3.12.1"
  }
 },
 "nbformat": 4,
 "nbformat_minor": 5
}
